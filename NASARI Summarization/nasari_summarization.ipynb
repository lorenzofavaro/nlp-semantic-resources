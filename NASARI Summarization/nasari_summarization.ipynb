{
 "cells": [
  {
   "cell_type": "code",
   "execution_count": 157,
   "metadata": {},
   "outputs": [],
   "source": [
    "import os\n",
    "from nltk.tokenize import word_tokenize\n",
    "from nltk.stem.wordnet import WordNetLemmatizer\n",
    "from collections import Counter, defaultdict\n",
    "import nltk\n",
    "from nltk.corpus import wordnet as wn\n",
    "from enum import Enum\n",
    "import re\n",
    "import math\n",
    "from statistics import mean\n",
    "\n",
    "from typing import AnyStr, List, Set, Dict, Tuple, Callable"
   ]
  },
  {
   "cell_type": "code",
   "execution_count": 158,
   "metadata": {},
   "outputs": [],
   "source": [
    "file_name = 'Trump-wall.txt'\n",
    "reduction = 10\n",
    "\n",
    "with open(f'data/docs/{file_name}', encoding='utf-8') as f:\n",
    "    doc = f.readlines()\n",
    "    \n",
    "    doc = list(filter(lambda x: x and not x.startswith('#'), (line.rstrip() for line in doc)))\n",
    "    doc = [doc[0]] + [line for line in doc[1:] if len(line) > 50] # remove sub-titles"
   ]
  },
  {
   "cell_type": "code",
   "execution_count": 159,
   "metadata": {},
   "outputs": [],
   "source": [
    "with open('data/stop_words_FULL.txt') as f:\n",
    "    stop_words = {line for line in f.read().splitlines()}\n",
    "\n",
    "# Bonus words allow us to understand that important things are about to be said\n",
    "with open('data/bonus_words.txt') as f:\n",
    "    bonus_words = {line for line in f.read().splitlines()}\n",
    "\n",
    "# Stigma words allow us to understand that unimportant things are about to be said\n",
    "with open('data/stigma_words.txt') as f:\n",
    "    stigma_words = {line for line in f.read().splitlines()}\n",
    "\n",
    "nasari = dict()\n",
    "with open('data/dd-small-nasari-15.txt', encoding='utf-8') as f:\n",
    "    for line in f.readlines():\n",
    "        splits = line.replace('\\n', '').split(\";\")\n",
    "        items = list()\n",
    "        for item in splits[2:]:\n",
    "            if '_' in item:\n",
    "                word, score = item.split(\"_\")\n",
    "                items.append((word, score))\n",
    "        nasari[splits[1].lower()] = items"
   ]
  },
  {
   "cell_type": "markdown",
   "metadata": {},
   "source": [
    "### Pre-Processing"
   ]
  },
  {
   "cell_type": "code",
   "execution_count": 160,
   "metadata": {},
   "outputs": [],
   "source": [
    "def bag_of_words(sentence: AnyStr) -> Set[AnyStr]:\n",
    "    return set(remove_stopwords(tokenize_sentence(remove_punctuation(sentence))))\n",
    "\n",
    "\n",
    "def remove_stopwords(words: List[AnyStr]) -> List[AnyStr]:\n",
    "    return [value for value in words if value not in stop_words]\n",
    "\n",
    "\n",
    "# Get tokens from sentence\n",
    "def tokenize_sentence(sentence: AnyStr) -> List[AnyStr]:\n",
    "    words = []\n",
    "    lmtzr = WordNetLemmatizer()\n",
    "    for tag in nltk.pos_tag(word_tokenize(sentence)):\n",
    "        words.append(lmtzr.lemmatize(tag[0]).lower())\n",
    "    return words\n",
    "\n",
    "\n",
    "# Remove punctuation and multiple spaces\n",
    "def remove_punctuation(sentence: AnyStr) -> AnyStr:\n",
    "    return re.sub('\\s\\s+', ' ', re.sub(r'[^\\w\\s]', '', sentence))"
   ]
  },
  {
   "cell_type": "markdown",
   "metadata": {},
   "source": [
    "### Weighted Overlap between Nasari vectors"
   ]
  },
  {
   "cell_type": "code",
   "execution_count": 161,
   "metadata": {},
   "outputs": [],
   "source": [
    "def max_similarity(context: List[Tuple], topic: List[Tuple]) -> int:\n",
    "    overlaps = [math.sqrt(weighted_overlap(context, topic))]\n",
    "    return max(overlaps)\n",
    "\n",
    "\n",
    "def rank(word: AnyStr, vector: List[Tuple]) -> int:\n",
    "    for index, (elem, _) in enumerate(vector):\n",
    "        if word == elem: return index + 1\n",
    "\n",
    "\n",
    "def weighted_overlap(vector1: List[Tuple], vector2: List[Tuple]) -> float:\n",
    "    overlap = 0\n",
    "    if common_words := {v[0] for v in vector1} & {v[0] for v in vector2}:\n",
    "        numerator = 0\n",
    "        for w in common_words:\n",
    "            numerator += (1 / (rank(w, vector1) + rank(w, vector2)))\n",
    "\n",
    "        denominator = 0\n",
    "        for i in range(len(common_words)):\n",
    "            denominator += 1 / (2 * (i+1))\n",
    "        \n",
    "        overlap = numerator / denominator\n",
    "    return overlap"
   ]
  },
  {
   "cell_type": "code",
   "execution_count": 162,
   "metadata": {},
   "outputs": [],
   "source": [
    "def nasari_vectors_for_bow(bow: List[AnyStr]) -> Dict[AnyStr, List[Tuple]]:\n",
    "    nasari_vectors = dict()\n",
    "    for word in bow:\n",
    "        if nasari_entry := nasari.get(word, None):\n",
    "            nasari_vectors[word] = nasari_entry\n",
    "    return nasari_vectors\n",
    "\n",
    "\n",
    "def get_cue_score(paragraph: AnyStr) -> int:\n",
    "    word_list = tokenize_sentence(remove_punctuation(paragraph))\n",
    "    score = 0\n",
    "    # score = len(set(word_list) & bonus_words) - len(set(word_list) & stigma_words)\n",
    "    for word in word_list:\n",
    "        if word in bonus_words: \n",
    "            score += 1\n",
    "        elif word in stigma_words: \n",
    "            score -= 1\n",
    "    return score\n",
    "    \n",
    "\n",
    "# We extract the nasari vectors from the title of the document\n",
    "def get_title_topics(doc: List[AnyStr]) -> Dict[AnyStr, List[Tuple]]:\n",
    "    title = doc[0]\n",
    "    return nasari_vectors_for_bow(bag_of_words(title))\n",
    "\n",
    "\n",
    "# We extract the nasari vectors from the most important paragraph of the document\n",
    "# according to the cue score (+1 for each bonus_words present, -1 for each stigma_words present)\n",
    "def get_topics(doc: List[AnyStr]) -> Dict[AnyStr, List[Tuple]]:\n",
    "    scores = [(paragraph, get_cue_score(paragraph)) for paragraph in doc]\n",
    "    most_important_paragraph = max(scores, key=lambda x: x[1])[0] # paragraph with maximum score associated\n",
    "    return nasari_vectors_for_bow(bag_of_words(most_important_paragraph))\n",
    "\n",
    "\n",
    "def summarization(doc: List[AnyStr], reduction: int, relevance_criteria: Callable) -> List[AnyStr]:\n",
    "    topics = relevance_criteria(doc)\n",
    "\n",
    "    paragraphs_overlap = list()\n",
    "    for paragraph in doc[1:]: # excluding title\n",
    "        paragraph_context = nasari_vectors_for_bow(bag_of_words(paragraph))\n",
    "        total_overlap = 0\n",
    "        average_paragraph_overlap = 0\n",
    "        overlaps_count = 0\n",
    "\n",
    "        # compute average paragraph overlap with the topics found before\n",
    "        for context in paragraph_context.values():\n",
    "            for topic in topics.values():\n",
    "                total_overlap += max_similarity(context, topic)\n",
    "                overlaps_count += 1\n",
    "        \n",
    "        if overlaps_count > 0:\n",
    "            average_paragraph_overlap = total_overlap / overlaps_count\n",
    "            paragraphs_overlap.append((paragraph, average_paragraph_overlap))\n",
    "    \n",
    "    # number of paragraphs to mantain after reduction\n",
    "    paragraphs_num = len(paragraphs_overlap) - int(round((reduction / 100) * len(paragraphs_overlap), 0))\n",
    "\n",
    "    # we mantain only the first 'paragraphs_num' paragraphs in order of importance (i.e. average overlap)\n",
    "    reduced_paragraphs = sorted(paragraphs_overlap, key=lambda x: x[1], reverse=True)[:paragraphs_num]\n",
    "    reduced_paragraphs = [p[0] for p in reduced_paragraphs] # remove scores associated\n",
    "\n",
    "    summary = list()\n",
    "    summary.append(doc[0]) # append title\n",
    "    for paragraph in reduced_paragraphs:\n",
    "        summary.append(paragraph) # append reduced paragraphs\n",
    "\n",
    "    return summary"
   ]
  },
  {
   "cell_type": "markdown",
   "metadata": {},
   "source": [
    "### Evaluation Metrics"
   ]
  },
  {
   "cell_type": "code",
   "execution_count": 163,
   "metadata": {},
   "outputs": [],
   "source": [
    "# compute Term Frequencies for each paragraph of the document (tf)\n",
    "def compute_tf(doc: List[AnyStr]) -> Dict[AnyStr, List[float]]:\n",
    "    tf = defaultdict(list)\n",
    "\n",
    "    for paragraph in doc[1:]:\n",
    "        paragraph_bow = remove_stopwords(tokenize_sentence(remove_punctuation(paragraph)))\n",
    "        counter_dict = Counter(paragraph_bow)\n",
    "\n",
    "        for term, term_count in counter_dict.items():\n",
    "            tf[term].append(term_count / len(paragraph_bow))\n",
    "    \n",
    "    return dict(tf)\n",
    "\n",
    "\n",
    "# compute Inverse Document Frequency (idf)\n",
    "def compute_idf(doc: List[AnyStr], tf: Dict[AnyStr, List[float]]) -> Dict[AnyStr, float]:\n",
    "    idf = dict()\n",
    "    paragraphs_count = len(doc[1:])\n",
    "\n",
    "    for term, frequencies in tf.items():\n",
    "        count_paragraphs_term_is_present = len(frequencies)\n",
    "        idf[term] = math.log(paragraphs_count / count_paragraphs_term_is_present)\n",
    "\n",
    "    return idf\n",
    "\n",
    "# couple tf and idf\n",
    "def get_tf_idf(tf: Dict[AnyStr, List[float]], idf: Dict[AnyStr, float]) -> Dict[AnyStr, float]:\n",
    "    tf_idf = dict()\n",
    "    for term, freqs in tf.items():\n",
    "        tf_idf[term] = mean([freq * idf[term] for freq in freqs])\n",
    "    return tf_idf\n",
    "\n",
    "\n",
    "def get_important_words(doc: List[AnyStr], reduction: int) -> Set[AnyStr]:\n",
    "    tf = compute_tf(doc) # term frequencies\n",
    "    idf = compute_idf(doc, tf) # inverse document frequency\n",
    "    tf_idf = get_tf_idf(tf, idf) # coupled\n",
    "\n",
    "    # we keep only the first (100 - reduction)% terms with highest score\n",
    "    percentage = (100 - reduction) / 100\n",
    "    threshold = int(round(len(tf_idf) * percentage))\n",
    "    sorted_tf_idf = sorted(tf_idf.items(), key=lambda x: x[1], reverse=True)[:threshold]\n",
    "\n",
    "    important_words = set([item[0] for item in sorted_tf_idf])\n",
    "    return important_words\n",
    "\n",
    "\n",
    "def get_words(summary: List[AnyStr]) -> Set[AnyStr]:\n",
    "    words = set()\n",
    "    for paragraph in summary[1:]:\n",
    "        words = words | (bag_of_words(paragraph))\n",
    "    return words\n",
    "\n",
    "\n",
    "# We compute precision for the most important terms\n",
    "def blue_evaluation(important_words, candidate_words) -> float:\n",
    "    return len(important_words & candidate_words) / len(candidate_words)\n",
    "\n",
    "\n",
    "# We compute recall for the most important terms\n",
    "def rouge_evaluation(important_words, candidate_words) -> float:\n",
    "    return len(important_words & candidate_words) / len(important_words)"
   ]
  },
  {
   "cell_type": "markdown",
   "metadata": {},
   "source": [
    "### Execution"
   ]
  },
  {
   "cell_type": "code",
   "execution_count": 164,
   "metadata": {},
   "outputs": [
    {
     "name": "stdout",
     "output_type": "stream",
     "text": [
      "paragraphs_overlap: 45\n",
      "paragraphs num: 41\n",
      "\n",
      "\n",
      "COMPUTED SUMMARY\n",
      "The Trump wall, commonly referred to as \"The Wall\", was an expansion of the Mexico–United States barrier during the U.S. presidency of Donald Trump. Throughout his 2016 presidential campaign, Trump called for the construction of a border wall. He said that, if elected, he would \"build the wall and make Mexico pay for it\". Then-Mexican president Enrique Peña Nieto said that Mexico would not pay for the wall.,Further information: Donald Trump 2016 presidential campaign,Wall prototypes being presented to President Trump in San Diego, March 2018,The Mexico–United States barrier is a series of vertical barriers along the Mexico–United States border aimed at preventing illegal crossings from Mexico into the United States. The barrier is not one contiguous structure, but a discontinuous series of physical obstructions variously classified as \"fences\" or \"walls\".,The Build the Wall, Enforce the Law Act of 2018 was introduced on October 12, 2018 by then-House Majority Leader Kevin McCarthy, who said, \"President Trump's election was a wake-up call to Washington.\",Further information: Build the Wall, Enforce the Law Act of 2018,Initially, On January 20, 2021, newly inaugurated U.S. president Joe Biden terminated the national emergency and halted construction of the wall,but the Secretary of Homeland Security later hinted that the construction of the wall may continue under Biden's administration.,In 2013, a Bloomberg Government analysis estimated that it would cost up to $28 billion annually to seal the border. While campaigning for the presidency in early 2016, Trump claimed it would be a one-time cost of only $8 billion, while Republican House Speaker Paul Ryan and Senate Majority Leader Mitch McConnell said $15 billion, and the Trump administration's own early estimates ranged up to $25 billion. The Department of Homeland Security's internal estimate in early 2017, shortly after Trump took office, was that his proposed border wall would cost $21.6 billion and take 3.5 years to build.,Fence between San Diego's border patrol offices in California (left) and Tijuana, Mexico,In January 2017, Trump signed Executive Order 13767, which formally directed the U.S. government to begin wall construction along the U.S.–Mexico border using existing federal funding. After a political struggle for funding, including an appropriations lapse resulting in a government shutdown for 35 days, and the declaration of a national emergency, construction started in 2019.,On February 27, 2019, the House of Representatives voted in favor of a resolution rejecting Trump's declaration of a national emergency on the southern border. On March 14, the Senate did the same. The next day, Trump vetoed the bill. It was the first veto of his presidency. In September, the House and Senate again voted in favor of ending the declaration of emergency, and in October the president again vetoed it. The same month, a lawsuit filed in El Paso County produced a ruling that Trump's declaration of emergency was unlawful, as it fails to meet the National Emergencies Act's definition of an emergency.,Main article: National Emergency Concerning the Southern Border of the United States,Trump requested that the wall be painted black, despite the protests of military leaders and border officials, who call it unnecessary. Painting the wall is expected to cost between $500 million and $3 billion.,Trump repeatedly said Mexico will pay for the construction of the border wall, but he did not explain how the U.S. government would compel Mexico to do so. Trump said, \"there will be a payment; it will be in a form, perhaps a complicated form\". The Mexican government has rejected Trump's statements and has rejected the idea of Mexico funding construction of a wall.,In September 2017, the U.S. government announced the start of construction of eight prototype barriers made from concrete and other materials. On June 3, 2018, the San Diego section of wall construction began. On October 26, a two-mile stretch of steel bollards in Calexico, California, was commemorated as the first section of Trump's wall, although media coverage heavily debated whether it should be considered a \"wall\" or a \"fence\". Trump scheduled a visit to this section in April 2019.,A January 2018 Trump administration proposal for the U.S. Customs and Border Protection called for $18 billion in funding for the wall over the following ten years. It called for \"316 miles (509 km) of additional barrier by September 2027, bringing total coverage to 970 miles (1,560 km), or nearly half the border\", according to the Associated Press, and called for 407 mi (655 km) of replacement fencing. While on the campaign trail in February 2016, Trump claimed the cost to be just $8 billion for the wall.,Different sources draw different conclusions about the actual or likely effectiveness of the wall. Research at Texas A&M University and Texas Tech University indicated that the wall, and border walls in general, are unlikely to be effective at reducing illegal immigration or movement of contraband. By contrast, the American Economic Journal found that wall construction caused a 15–35 percent reduction in migration, varying with proximity to the barrier.,The funding restrictions, and the National Emergency executive order, became the center points of the legal challenge to the appropriation of funds to construct the wall.,Trump signed a declaration of national emergency on February 15, 2019.,From December 22, 2018, to January 25, 2019, the federal government was partially shut down due to Trump's declared intention to veto any spending bill that did not include $5 billion in funding for a border wall. On January 4, 2019, Trump claimed that former presidents had privately told him they should have built a border wall, but every living former U.S. president denied this. In a televised speech on January 8, Trump asserted that ninety percent of the heroin sold in America \"floods across from our southern border\", although virtually all drugs smuggled across the border flow through legal ports of entry rather than through open border spaces. During a visit to McAllen, Texas, on January 10, Trump said Mexico would not directly pay for the wall, despite his having said so during the 2016 campaign: \"When during the campaign, I would say 'Mexico is going to pay for it', obviously, I never said this, and I never meant they're gonna write out a check, I said they're going to pay for it. They are. Mexico is paying for the wall indirectly, and when I said Mexico will pay for the wall in front of thousands and thousands of people, obviously they're not gonna write a check. But they are paying for the wall indirectly many, many times over by the really great trade deal we just made.\" Media fact-checkers determined this assertion to be false.,On January 25, 2017, the Trump administration signed Executive Order 13767, which formally directed the government to begin attempting to construct a border wall using existing federal funding, although actual construction of a wall did not begin at this time due to the large expense and lack of clarity on how it would be paid for.,In November 2019, it was reported that Mexican smugglers had begun sawing through steel bollards in areas where sensors to detect such breaches had not yet been installed. Trump responded, \"you can cut through any wall\", and touted the barrier design by explaining that \"it's very easily fixed. You put the chunk back in.\" According to border agents, smugglers tend to return to areas of the wall that have previously been sawed through because the bollards have been weakened.,In February 2017, Trump said \"the wall is getting designed right here\" but did not offer specifics. In March 2017, U.S. Customs and Border Protection (CBP) began accepting prototype ideas for a U.S.–Mexico border wall from companies and said it would issue a request for proposals by March 24.,Trump had planned to meet Peña Nieto at the White House on January 27, 2017, to discuss topics including border security and possible negotiations around the wall. However, the day before the meeting, Trump announced that the U.S. would impose a twenty percent tariff on imported Mexican goods as Mexico's payment for the wall. In response, Peña Nieto gave a national televised address saying Mexico would not pay for the wall, and cancelled his meeting with Trump.,As of December 2020, the total funding given for new fencing was about $15 billion, a third of which had been given by Congress while Trump had ordered the rest taken from the military budget. This funding was intended to build new fencing over 738 miles (1,188 km), at a cost of about $20 million per mile; this would cover a little more than half the approximately 1,300 mi (2,100 km) that had no fencing when Trump took office.,In January 2020, a few wall panels under construction in Calexico, California, were blown over by strong Santa Ana winds before the poured concrete foundations cured. There was no other property damage or injuries as a result of the incident.,In March 2017, the Trump administration submitted an amendment for fiscal year 2017 that includes a $3 billion continuing budget for \"border security and immigration enforcement\". Trump's FY 2018 Budget Blueprint increases discretionary funds for the Department of Homeland Security (DHS) by $2.8 billion (to $44.1 billion). The DHS Secretary John F. Kelly told the Senate Homeland Security and Governmental Affairs Committee during a hearing the Budget Blueprint \"includes $2.6 billion for high-priority border security technology and tactical infrastructure, including funding to plan, design and construct the border wall\".,Throughout his 2015–2016 presidential campaign, Donald Trump called for construction of a large fortified border wall, claiming that if elected he would \"build the wall and make Mexico pay for it\". Even before declaring his candidacy he declared he wanted \"nothing to do with Mexico other than to build an impenetrable WALL\". In his June 2015 announcement of his candidacy he promised \"I would build a great wall, and no one builds walls better than me, believe me, and I'll build them very inexpensively. I will build a great wall and I'll have Mexico pay for that wall.\" Throughout his campaign he described his vision of a concrete wall, 30 to 50 feet (9.1 to 15.2 m) high and covering 1,000 miles (1,600 km) of the 1,900-mile (3,100 km) border, with the rest of the border being secured by natural barriers. After taking office he suggested a \"steel wall with openings\" so border agents could see through it; starting in 2018 he referred to it as a \"steel slat barrier\".,On February 15, 2019, Trump signed a bill to fund the government for the balance of the fiscal year, but derided the bill as inadequate because it contained only $1.375 billion for border security. Trump had earlier insisted he needed $5.7 billion to extend the Mexico–United States barrier. At the same time, Trump signed a declaration that the situation at the southern border constitutes a national emergency. This declaration ostensibly made available $600 million from the Treasury Forfeiture Fund, $2.5 billion from the United States Department of Defense (including anti-drug accounts), $3.6 billion from military construction accounts, for a total of $8 billion when added to the $1.375 billion allocated by Congress. However, a week after the bill was signed, it emerged that more than a third of those funds had already been spent for their original purposes, and were therefore unavailable.,In July 2017, U.S. Representative Michael McCaul, Republican of Austin, Texas, the chairman of the House Homeland Security Committee, said the Republican-controlled U.S. House of Representatives would seek to pass a special supplemental appropriations bill to spend money on initial construction of the wall, a demand of the Trump administration. Such a supplemental spending bill was supported by then-House Speaker Paul Ryan. However, Senate Democrats have expressed confidence that they can block an appropriations bill for wall construction, with the aid of some Republicans who also oppose the construction of a wall due to its enormous cost. Speaking at a Trump rally on August 22, 2017, Trump threatened to close down the government if Congress did not approve funding: \"The obstructionist Democrats would like us not to do it, but believe me, if we have to close down our government, we're building that wall.\",In October 2020, the DHS published data indicating that the new border barrier has been effective at reducing the number of illegal border entries. The barrier also reduced ongoing manpower costs in at least one area in which it had been built.,A March 2021 review of the Trump work on the wall found found only 47 miles (76 km) of new barriers where none had previously existed. While Trump had described the new wall as \"virtually impenetrable\", it was found that smugglers had repeatedly sawed through the wall with cheap power tools. Also, new dirt roads that had been used to access the wall construction served as new access roads for smugglers.,One-time costs include land acquisition and construction of new or replacement fence; ongoing costs include maintenance of existing fence and Border Patrol agents who guard the area. Rough and remote terrain on many parts of the border, such as deserts and mountains, would make construction and maintenance of a wall expensive. On federally protected wilderness areas and Native American reservations, the Department of Homeland Security may have only limited construction authority, and a wall could cause environmental damage.,In August 2017, while speaking at a rally in Phoenix, Arizona, Trump said he would close down the U.S. government if necessary to force Congress to pay for the wall. He was harshly criticized by prominent leaders of his political base such as Ann Coulter and Rush Limbaugh for failing to secure $5 billion in funding for the wall in the previous fiscal year's appropriations bill.,In March 2018, Trump cited a study by the anti-immigration Center for Immigration Studies think tank, which claimed that a wall along the Mexican border could save taxpayers $64 billion by reducing the \"crime and welfare costs\" of undocumented immigrants in the ten years following its construction, thereby breaking even on construction costs and \"paying for itself\". Eric Boehm of Reason magazine disputed this claim, saying the study massively underestimated the actual cost of building and maintaining the wall. Boehm also criticized that the analysis overestimated the positive economic impact of stopping illegal immigration and how good the wall would be at preventing it, citing that a \"third of all illegal immigrants\" were simply overstaying their visa and had not actually entered the U.S. illegally. As of the end of 2018, Mexico had not entered into any agreement to pay for any amount of the wall, and no new tariffs or earmarks have been imposed to fund it. In March 2018, Congress appropriated $1.6 billion out of a $1.3 trillion spending bill towards the border barrier, characterized by Trump as a \"down payment\" that would be spent \"building not only some new wall ... but also fixing existing walls\". In the end, this specific appropriation ended up funding only about 90 miles (140 km) of barriers with Mexico. By May 2019, 1.7 miles (2.7 km) of barrier had been constructed from the appropriation.,Critics of Trump's plan note that expanding the wall would not stop the routine misuse of legal ports of entry by people smuggling contraband, overstaying travel visas, using fraudulent documents, or stowing away. They also point out that in addition to the misuse of ports of entry, even a border-wide wall could be bypassed by tunneling (compare the borders of the Gaza Strip), climbing, or by using boats or aircraft. Additionally, along some parts of the border, the existing rough terrain may be a greater deterrent than a wall. Trump reportedly suggested of fortifying the wall with a water-filled trench inhabited by snakes or alligators, and electric fencing topped with spikes that can pierce human flesh.,Upon taking office Trump signed an executive order to begin building the wall, but left open the question of payment. The Trump administration suggested that wall construction could be funded by a twenty percent tariff on Mexico imports, a proposal which immediately encountered objections from members of Congress of both parties. After the negative response, White House Chief of Staff Reince Priebus indicated that the administration was considering \"a buffet of options\" for funding a wall. In April 2016, Trump said he would \"compel Mexico to pay for a border wall by blocking remittances and canceling visas unless Mexico makes a one-time payment of $5 billion to $10 billion to the U.S.\" Money wiring service companies have identified a number of legal, economic, and practical obstacles to such a proposal, saying it would be impossible to track all money transfers between Mexico and the United States, or to effectively block all remittances. Some economists argue that blocking remittances could harm the U.S. economy. Brookings Institution fellow Aaron Klein said a move to block remittances would be a reversal of the existing U.S. policy \"to encourage the flow of money to come into the official system and to discourage the flow of funds through the underground network\".,In February 2019, Congress amended an existing appropriations bill, adding language that specifically prohibits new funding from being used to build border barriers at several sites, including the Santa Ana National Wildlife Refuge, the Bentsen-Rio Grande Valley State Park, the La Lomita Historical park, the National Butterfly Center, and the area \"within or east of\" the Vista del Mar Ranch tract of the Lower Rio Grande Valley National Wildlife Refuge. Soon afterwards, however, President Trump declared a National Emergency Concerning the Southern Border of the United States, which the administration claimed invalidated the restrictions imposed by Congress.,The concept for the proposed expansion was developed by campaign advisers Sam Nunberg and Roger Stone in 2014 as a memorable talking point Trump could use to tie his business experience as a builder and developer to his immigration policy proposals. The wall was first aired in January 2015 at the Iowa Freedom Summit hosted by Citizens United and Steve King. Trump proposed it again at Trump's June 2015 announcement speech for his 2015–2016 presidential campaign, along with a claim that Mexico would pay for it. Trump has repeated the claim many times.,In June 2017, Trump said his proposed border wall should be covered with solar panels as a means of making \"beautiful structures\" and helping pay for the wall. This suggestion was criticized by some as illogical or impracticable; Albert Pope of the Rice University School of Architecture of Houston, Texas, noted that solar farms cannot be efficiently dispersed along a wall. Others, including John Griese, co-owner of the solar installation firm Elemental Energy, estimated a profit of over $100 million per year from such panels. In July, Trump said the wall should be transparent to detect smugglers who \"throw the large sacks of drugs over\".,The Associated Press reported that more than two hundred organizations had expressed interest in designing and building the wall for CBP. By April 2017, several companies had released their proposed designs to the public; CBP does not publicly release bids, and intends to name only the winning bid. The proposals included placing solar panels along part of a wall; placing artwork along the wall (\"a polished concrete wall augmented with stones and artifacts\" related to the local region); incorporating ballistics resistance technology and sensors for above ground and below ground penetration; and the creation of a \"co-nation\" where the border is maintained by both countries in an open status.,A manufacturing company based in Pine City, Minnesota, was awarded a bid to help build the \"virtual wall\" along the border in 2018. Instead of using physical walls, this plan for a \"virtual wall\" would involve easily transportable \"roll-up\" towers with attached motion sensing and camera equipment. While initially small and mobile, when deployed the internal structure of the tower telescopes upwards to create a tall surveillance apparatus. Along remote parts of the border, this method could be cheaper and more practical than building permanent structures on location.\n"
     ]
    }
   ],
   "source": [
    "class RelevanceCriteria(Enum):\n",
    "    title = get_title_topics\n",
    "    topic = get_topics\n",
    "\n",
    "relevance_criteria = RelevanceCriteria.title\n",
    "\n",
    "summary = summarization(doc, reduction, relevance_criteria)\n",
    "print(f'\\n\\nCOMPUTED SUMMARY')\n",
    "print(','.join(summary))"
   ]
  },
  {
   "cell_type": "markdown",
   "metadata": {},
   "source": [
    "### Evaluation"
   ]
  },
  {
   "cell_type": "code",
   "execution_count": 165,
   "metadata": {},
   "outputs": [
    {
     "name": "stdout",
     "output_type": "stream",
     "text": [
      "Precision: 0.892512077294686\n",
      "Recall: 0.9272271016311167\n"
     ]
    }
   ],
   "source": [
    "important_words = get_important_words(doc, reduction)\n",
    "candidate_summary_words = get_words(summary)\n",
    "\n",
    "precision = blue_evaluation(important_words, candidate_summary_words)\n",
    "recall = rouge_evaluation(important_words, candidate_summary_words)\n",
    "\n",
    "print(f'Precision: {precision}')\n",
    "print(f'Recall: {recall}')"
   ]
  }
 ],
 "metadata": {
  "interpreter": {
   "hash": "698decd1517ad617605f6774375fa482df7b07f6a9e4e918174998ae44c43fde"
  },
  "kernelspec": {
   "display_name": "Python 3.8.6 ('venv': venv)",
   "language": "python",
   "name": "python3"
  },
  "language_info": {
   "codemirror_mode": {
    "name": "ipython",
    "version": 3
   },
   "file_extension": ".py",
   "mimetype": "text/x-python",
   "name": "python",
   "nbconvert_exporter": "python",
   "pygments_lexer": "ipython3",
   "version": "3.8.6"
  },
  "orig_nbformat": 4
 },
 "nbformat": 4,
 "nbformat_minor": 2
}
