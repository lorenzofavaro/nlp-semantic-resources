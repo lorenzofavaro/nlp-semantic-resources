{
 "cells": [
  {
   "cell_type": "code",
   "execution_count": 83,
   "metadata": {},
   "outputs": [],
   "source": [
    "import os\n",
    "from nltk.tokenize import word_tokenize\n",
    "from nltk.stem.wordnet import WordNetLemmatizer\n",
    "import nltk\n",
    "from enum import Enum\n",
    "import re\n",
    "import math\n",
    "\n",
    "from typing import AnyStr, List, Set, Dict, Tuple, Callable"
   ]
  },
  {
   "cell_type": "code",
   "execution_count": 84,
   "metadata": {},
   "outputs": [],
   "source": [
    "with open('data/stop_words_FULL.txt') as f:\n",
    "    stop_words = {line for line in f.read().splitlines()}\n",
    "\n",
    "with open('data/bonus_words.txt') as f:\n",
    "    bonus_words = {line for line in f.read().splitlines()}\n",
    "\n",
    "with open('data/stigma_words.txt') as f:\n",
    "    stigma_words = {line for line in f.read().splitlines()}\n",
    "\n",
    "nasari = dict()\n",
    "with open('data/dd-small-nasari-15.txt', encoding='utf-8') as f:\n",
    "    for line in f.readlines():\n",
    "        splits = line.replace('\\n', '').split(\";\")\n",
    "        items = list()\n",
    "        for item in splits[2:]:\n",
    "            if '_' in item:\n",
    "                word, score = item.split(\"_\")\n",
    "                items.append((word, score))\n",
    "        nasari[splits[1].lower()] = items"
   ]
  },
  {
   "cell_type": "markdown",
   "metadata": {},
   "source": [
    "### Pre-Processing"
   ]
  },
  {
   "cell_type": "code",
   "execution_count": 85,
   "metadata": {},
   "outputs": [],
   "source": [
    "def bag_of_words(sentence: AnyStr) -> Set[AnyStr]:\n",
    "    return set(remove_stopwords(tokenize_sentence(remove_punctuation(sentence))))\n",
    "\n",
    "\n",
    "def remove_stopwords(words: List[AnyStr]) -> List[AnyStr]:\n",
    "    return [value for value in words if value not in stop_words]\n",
    "\n",
    "\n",
    "# Get tokens from sentence\n",
    "def tokenize_sentence(sentence: AnyStr) -> List[AnyStr]:\n",
    "    words = []\n",
    "    lmtzr = WordNetLemmatizer()\n",
    "    for tag in nltk.pos_tag(word_tokenize(sentence)):\n",
    "        words.append(lmtzr.lemmatize(tag[0]).lower())\n",
    "    return words\n",
    "\n",
    "\n",
    "# Remove punctuation and multiple spaces\n",
    "def remove_punctuation(sentence: AnyStr) -> AnyStr:\n",
    "    return re.sub('\\s\\s+', ' ', re.sub(r'[^\\w\\s]', '', sentence))"
   ]
  },
  {
   "cell_type": "code",
   "execution_count": 86,
   "metadata": {},
   "outputs": [],
   "source": [
    "def select_doc(docs: List[AnyStr]) -> AnyStr:\n",
    "    print('Available documents to summarize:')\n",
    "    for i, doc in enumerate(docs):\n",
    "        print(f'[{i}] {doc}')\n",
    "    doc_index = int(input(f'Choose the document (0-{len(docs)-1}): '))\n",
    "    \n",
    "    return docs[doc_index]\n",
    "\n",
    "\n",
    "def parse_doc(doc_name: AnyStr) -> List[AnyStr]:\n",
    "    with open(f'data/docs/{doc_name}') as f:\n",
    "        lines = f.readlines()\n",
    "    \n",
    "    lines = list(filter(lambda x: x and not x.startswith('#'), (line.rstrip() for line in lines)))\n",
    "    lines = [lines[0]] + [line for line in lines[1:] if len(line) > 30] # remove sub-titles\n",
    "    return lines\n"
   ]
  },
  {
   "cell_type": "markdown",
   "metadata": {},
   "source": [
    "### Weighted Overlap between Nasari vectors"
   ]
  },
  {
   "cell_type": "code",
   "execution_count": 87,
   "metadata": {},
   "outputs": [],
   "source": [
    "def max_similarity(context: List[Tuple], topic: List[Tuple]) -> int:\n",
    "    overlaps = [math.sqrt(weighted_overlap(context, topic))]\n",
    "    return max(overlaps)\n",
    "\n",
    "\n",
    "def rank(word: AnyStr, vector: List[Tuple]) -> int:\n",
    "    for index, (elem, _) in enumerate(vector):\n",
    "        if word == elem: return index + 1\n",
    "\n",
    "\n",
    "def weighted_overlap(vector1: List[Tuple], vector2: List[Tuple]) -> float:\n",
    "    overlap = 0\n",
    "    if common_words := {v[0] for v in vector1} & {v[0] for v in vector2}:\n",
    "        numerator = 0\n",
    "        for w in common_words:\n",
    "            numerator += (1 / (rank(w, vector1) + rank(w, vector2)))\n",
    "\n",
    "        denominator = 0\n",
    "        for i in range(len(common_words)):\n",
    "            denominator += 1 / (2 * (i+1))\n",
    "        \n",
    "        overlap = numerator / denominator\n",
    "    return overlap"
   ]
  },
  {
   "cell_type": "code",
   "execution_count": 88,
   "metadata": {},
   "outputs": [],
   "source": [
    "def nasari_vectors_for_bow(bow: List[AnyStr]) -> Dict[AnyStr, List[Tuple]]:\n",
    "    nasari_vectors = dict()\n",
    "    for word in bow:\n",
    "        if nasari_entry := nasari.get(word, None):\n",
    "            nasari_vectors[word] = nasari_entry\n",
    "    return nasari_vectors\n",
    "\n",
    "\n",
    "def get_cue_score(paragraph: AnyStr) -> int:\n",
    "    word_list = tokenize_sentence(remove_punctuation(paragraph))\n",
    "    score = 0\n",
    "    # score = len(set(word_list) & bonus_words) - len(set(word_list) & stigma_words)\n",
    "    for word in word_list:\n",
    "        if word in bonus_words: \n",
    "            score += 1\n",
    "        elif word in stigma_words: \n",
    "            score -= 1\n",
    "    return score\n",
    "    \n",
    "\n",
    "# We extract the nasari vectors from the title of the document\n",
    "def get_title_topics(doc: List[AnyStr]) -> Dict[AnyStr, List[Tuple]]:\n",
    "    title = doc[0]\n",
    "    return nasari_vectors_for_bow(bag_of_words(title))\n",
    "\n",
    "\n",
    "# We extract the nasari vectors from the most important paragraph of the document\n",
    "# according to the cue score (+1 for each bonus_words present, -1 for each stigma_words present)\n",
    "def get_topics(doc: List[AnyStr]) -> Dict[AnyStr, List[Tuple]]:\n",
    "    scores = [(paragraph, get_cue_score(paragraph)) for paragraph in doc]\n",
    "    most_important_paragraph = max(scores, key=lambda x: x[1])[0] # paragraph with maximum score associated\n",
    "    return nasari_vectors_for_bow(bag_of_words(most_important_paragraph))\n",
    "\n",
    "\n",
    "def summarization(doc: List[AnyStr], reduction: int, relevance_criteria: Callable) -> List[AnyStr]:\n",
    "    topics = relevance_criteria(doc)\n",
    "\n",
    "    paragraphs_overlap = list()\n",
    "    for paragraph in doc[1:]: # excluding title\n",
    "        paragraph_context = nasari_vectors_for_bow(bag_of_words(paragraph))\n",
    "        total_overlap = 0\n",
    "        average_paragraph_overlap = 0\n",
    "        overlaps_count = 0\n",
    "\n",
    "        # compute average paragraph overlap with the topics found before\n",
    "        for context in paragraph_context.values():\n",
    "            for topic in topics.values():\n",
    "                total_overlap += max_similarity(context, topic)\n",
    "                overlaps_count += 1\n",
    "        \n",
    "        if overlaps_count > 0:\n",
    "            average_paragraph_overlap = total_overlap / overlaps_count\n",
    "            paragraphs_overlap.append((paragraph, average_paragraph_overlap))\n",
    "    \n",
    "    # number of paragraphs to mantain after reduction\n",
    "    paragraphs_num = round(len(paragraphs_overlap) - len(paragraphs_overlap) * reduction)\n",
    "\n",
    "    # we mantain only the first 'paragraphs_num' paragraphs in order of importance (i.e. average overlap)\n",
    "    reduced_paragraphs = sorted(paragraphs_overlap, key=lambda x: x[1], reverse=True)[:paragraphs_num]\n",
    "    reduced_paragraphs = [p[0] for p in reduced_paragraphs] # remove scores associated\n",
    "\n",
    "    summary = list()\n",
    "    summary.append(doc[0]) # append title\n",
    "    for paragraph in reduced_paragraphs:\n",
    "        summary.append(paragraph) # append reduced paragraphs\n",
    "\n",
    "    return summary\n"
   ]
  },
  {
   "cell_type": "code",
   "execution_count": 90,
   "metadata": {},
   "outputs": [
    {
     "name": "stdout",
     "output_type": "stream",
     "text": [
      "Available documents to summarize:\n",
      "[0] Andy-Warhol.txt\n",
      "[1] Ebola-virus-disease.txt\n",
      "[2] Life-indoors.txt\n",
      "[3] Napoleon-wiki.txt\n",
      "[4] Trump-wall.txt\n",
      "before reduction: 20\n",
      "after reduction: 15\n"
     ]
    },
    {
     "data": {
      "text/plain": [
       "['Ebola virus disease',\n",
       " 'Symptoms usually begin with a sudden influenza-like stage characterised by feeling tired, fever, weakness, decreased appetite, muscular pain, joint pain, headache, and sore throat. The fever is usually higher than 38.3 Â°C (101 Â°F). This is often followed by nausea, vomiting, diarrhoea, abdominal pain, and sometimes hiccups. The combination of severe vomiting and diarrhoea often leads to severe dehydration. Next, shortness of breath and chest pain may occur, along with swelling, headaches, and confusion. In about half of the cases, the skin may develop a maculopapular rash, a flat red area covered with small bumps, five to seven days after symptoms begin.',\n",
       " 'The potential for widespread infections in countries with medical systems capable of observing correct medical isolation procedures is considered low. Usually when someone has symptoms of the disease, they are unable to travel without assistance.',\n",
       " 'In some cases, internal and external bleeding may occur. This typically begins five to seven days after the first symptoms. All infected people show some decreased blood clotting. Bleeding from mucous membranes or from sites of needle punctures has been reported in 40â€“50% of cases. This may cause vomiting blood, coughing up of blood, or blood in stool. Bleeding into the skin may create petechiae, purpura, ecchymoses or haematomas (especially around needle injection sites). Bleeding into the whites of the eyes may also occur. Heavy bleeding is uncommon; if it occurs, it is usually in the gastrointestinal tract. The incidence of bleeding into the gastrointestinal tract was reported to be ~58% in the 2001 outbreak in Gabon, but in the 2014-15 outbreak in the US it was ~18%, possibly due to improved prevention of disseminated intravascular coagulation.',\n",
       " 'Those who survive often have ongoing muscular and joint pain, liver inflammation, and decreased hearing, and may have continued tiredness, continued weakness, decreased appetite, and difficulty returning to pre-illness weight. Problems with vision may develop.',\n",
       " 'Ebola virus disease (EVD), or simply Ebola, is a viral haemorrhagic fever of humans and other primates caused by ebolaviruses. Signs and symptoms typically start between two days and three weeks after contracting the virus with a fever, sore throat, muscular pain, and headaches. Vomiting, diarrhoea and rash usually follow, along with decreased function of the liver and kidneys. At this time, some people begin to bleed both internally and externally. The disease has a high risk of death, killing 25% to 90% of those infected, with an average of about 50%. This is often due to low blood pressure from fluid loss, and typically follows six to 16 days after symptoms appear.',\n",
       " 'Recovery may begin between seven and 14 days after first symptoms. Death, if it occurs, follows typically six to sixteen days from first symptoms and is often due to low blood pressure from fluid loss. In general, bleeding often indicates a worse outcome, and blood loss may result in death. People are often in a coma near the end of life.',\n",
       " 'Survivors develop antibodies against Ebola that last at least 10 years, but it is unclear whether they are immune to additional infections.',\n",
       " 'The length of time between exposure to the virus and the development of symptoms (incubation period) is between two and 21 days, and usually between four and ten days. However, recent estimates based on mathematical models predict that around 5% of cases may take greater than 21 days to develop.',\n",
       " 'Airborne transmission among humans is theoretically possible due to the presence of Ebola virus particles in saliva, which can be discharged into the air with a cough or sneeze, but observational data from previous epidemics suggests the actual risk of airborne transmission is low. A number of studies examining airborne transmission broadly concluded that transmission from pigs to primates could happen without direct contact because, unlike humans and primates, pigs with EVD get very high ebolavirus concentrations in their lungs, and not their bloodstream. Therefore, pigs with EVD can spread the disease through droplets in the air or on the ground when they sneeze or cough. By contrast, humans and other primates accumulate the virus throughout their body and specifically in their blood, but not very much in their lungs. It is believed that this is the reason researchers have observed pig to primate transmission without physical contact, but no evidence has been found of primates being infected without actual contact, even in experiments where infected and uninfected primates shared the same air.',\n",
       " 'EVD in humans is caused by four of five viruses of the genus Ebolavirus. The four are Bundibugyo virus (BDBV), Sudan virus (SUDV), TaÃ¯ Forest virus (TAFV) and one simply called Ebola virus (EBOV, formerly Zaire Ebola virus). EBOV, species Zaire ebolavirus, is the most dangerous of the known EVD-causing viruses, and is responsible for the largest number of outbreaks. The fifth virus, Reston virus (RESTV), is not thought to cause disease in humans, but has caused disease in other primates. All five viruses are closely related to marburgviruses.',\n",
       " 'It is believed that between people, Ebola disease spreads only by direct contact with the blood or other body fluids of a person who has developed symptoms of the disease. Body fluids that may contain Ebola viruses include saliva, mucus, vomit, feces, sweat, tears, breast milk, urine and semen. The WHO states that only people who are very sick are able to spread Ebola disease in saliva, and whole virus has not been reported to be transmitted through sweat. Most people spread the virus through blood, feces and vomit. Entry points for the virus include the nose, mouth, eyes, open wounds, cuts and abrasions. Ebola may be spread through large droplets; however, this is believed to occur only when a person is very sick. This contamination can happen if a person is splashed with droplets. Contact with surfaces or objects contaminated by the virus, particularly needles and syringes, may also transmit the infection. The virus is able to survive on objects for a few hours in a dried state, and can survive for a few days within body fluids outside of a person.',\n",
       " 'Health-care workers treating people with Ebola are at greatest risk of infection. The risk increases when they do not have appropriate protective clothing such as masks, gowns, gloves and eye protection; do not wear it properly; or handle contaminated clothing incorrectly. This risk is particularly common in parts of Africa where the disease mostly occurs and health systems function poorly. There has been transmission in hospitals in some African countries that reuse hypodermic needles. Some health-care centres caring for people with the disease do not have running water. In the United States the spread to two medical workers treating infected patients prompted criticism of inadequate training and procedures.',\n",
       " 'The virus spreads through direct contact with body fluids, such as blood from infected humans or other animals. Spread may also occur from contact with items recently contaminated with bodily fluids. Spread of the disease through the air between primates, including humans, has not been documented in either laboratory or natural conditions. Semen or breast milk of a person after recovery from EVD may carry the virus for several weeks to months. Fruit bats are believed to be the normal carrier in nature, able to spread the virus without being affected by it. Other diseases such as malaria, cholera, typhoid fever, meningitis and other viral haemorrhagic fevers may resemble EVD. Blood samples are tested for viral RNA, viral antibodies or for the virus itself to confirm the diagnosis.',\n",
       " 'The Ebola virus may be able to persist for more than three months in the semen after recovery, which could lead to infections via sexual intercourse. Virus persistence in semen for over a year has been recorded in a national screening programme. Ebola may also occur in the breast milk of women after recovery, and it is not known when it is safe to breastfeed again. The virus was also found in the eye of one patient in 2014, two months after it was cleared from his blood. Otherwise, people who have recovered are not infectious.',\n",
       " 'Control of outbreaks requires coordinated medical services and community engagement. This includes rapid detection, contact tracing of those who have been exposed, quick access to laboratory services, care for those infected, and proper disposal of the dead through cremation or burial. Samples of body fluids and tissues from people with the disease should be handled with special caution. Prevention includes limiting the spread of disease from infected animals to humans by handling potentially infected bushmeat only while wearing protective clothing, and by thoroughly cooking bushmeat before eating it. It also includes wearing proper protective clothing and washing hands when around a person with the disease. An Ebola vaccine was approved in the United States in December 2019. While there is no approved treatment for Ebola as of 2019, two treatments (REGN-EB3 and mAb114) are associated with improved outcomes. Supportive efforts also improve outcomes. This includes either oral rehydration therapy (drinking slightly sweetened and salty water) or giving intravenous fluids as well as treating symptoms.']"
      ]
     },
     "execution_count": 90,
     "metadata": {},
     "output_type": "execute_result"
    }
   ],
   "source": [
    "class RelevanceCriteria(Enum):\n",
    "    title = get_title_topics\n",
    "    topic = get_topics\n",
    "\n",
    "docs = os.listdir('data/docs')\n",
    "doc = parse_doc(select_doc(docs))\n",
    "reduction = int(input('Enter the reduction % (10, 20, 30): ')) / 100\n",
    "relevance_criteria = RelevanceCriteria.topic\n",
    "\n",
    "summary = summarization(doc, reduction, relevance_criteria)\n",
    "summary"
   ]
  }
 ],
 "metadata": {
  "interpreter": {
   "hash": "404b64e01f57285674b9751162c2ed4527d694a9d1b08ef777de9504d46378cb"
  },
  "kernelspec": {
   "display_name": "Python 3.8.6 ('venv': venv)",
   "language": "python",
   "name": "python3"
  },
  "language_info": {
   "codemirror_mode": {
    "name": "ipython",
    "version": 3
   },
   "file_extension": ".py",
   "mimetype": "text/x-python",
   "name": "python",
   "nbconvert_exporter": "python",
   "pygments_lexer": "ipython3",
   "version": "3.8.6"
  },
  "orig_nbformat": 4
 },
 "nbformat": 4,
 "nbformat_minor": 2
}
